{
 "cells": [
  {
   "cell_type": "code",
   "execution_count": 1,
   "id": "cccee147",
   "metadata": {
    "scrolled": true
   },
   "outputs": [
    {
     "name": "stderr",
     "output_type": "stream",
     "text": [
      "WARNING: An illegal reflective access operation has occurred\n",
      "WARNING: Illegal reflective access by org.apache.spark.unsafe.Platform (file:/usr/local/lib/python3.7/site-packages/pyspark/jars/spark-unsafe_2.12-3.2.1.jar) to constructor java.nio.DirectByteBuffer(long,int)\n",
      "WARNING: Please consider reporting this to the maintainers of org.apache.spark.unsafe.Platform\n",
      "WARNING: Use --illegal-access=warn to enable warnings of further illegal reflective access operations\n",
      "WARNING: All illegal access operations will be denied in a future release\n"
     ]
    },
    {
     "name": "stdout",
     "output_type": "stream",
     "text": [
      ":: loading settings :: url = jar:file:/usr/local/lib/python3.7/site-packages/pyspark/jars/ivy-2.5.0.jar!/org/apache/ivy/core/settings/ivysettings.xml\n"
     ]
    },
    {
     "name": "stderr",
     "output_type": "stream",
     "text": [
      "Ivy Default Cache set to: /root/.ivy2/cache\n",
      "The jars for the packages stored in: /root/.ivy2/jars\n",
      "org.apache.hadoop#hadoop-aws added as a dependency\n",
      "com.microsoft.azure#spark-mssql-connector_2.12 added as a dependency\n",
      ":: resolving dependencies :: org.apache.spark#spark-submit-parent-05a4595b-0ef4-429d-9052-60a32bde0a84;1.0\n",
      "\tconfs: [default]\n",
      "\tfound org.apache.hadoop#hadoop-aws;3.2.2 in central\n",
      "\tfound com.amazonaws#aws-java-sdk-bundle;1.11.563 in central\n",
      "\tfound com.microsoft.azure#spark-mssql-connector_2.12;1.2.0 in central\n",
      "\tfound com.microsoft.sqlserver#mssql-jdbc;8.4.1.jre8 in central\n",
      ":: resolution report :: resolve 503ms :: artifacts dl 21ms\n",
      "\t:: modules in use:\n",
      "\tcom.amazonaws#aws-java-sdk-bundle;1.11.563 from central in [default]\n",
      "\tcom.microsoft.azure#spark-mssql-connector_2.12;1.2.0 from central in [default]\n",
      "\tcom.microsoft.sqlserver#mssql-jdbc;8.4.1.jre8 from central in [default]\n",
      "\torg.apache.hadoop#hadoop-aws;3.2.2 from central in [default]\n",
      "\t---------------------------------------------------------------------\n",
      "\t|                  |            modules            ||   artifacts   |\n",
      "\t|       conf       | number| search|dwnlded|evicted|| number|dwnlded|\n",
      "\t---------------------------------------------------------------------\n",
      "\t|      default     |   4   |   0   |   0   |   0   ||   4   |   0   |\n",
      "\t---------------------------------------------------------------------\n",
      ":: retrieving :: org.apache.spark#spark-submit-parent-05a4595b-0ef4-429d-9052-60a32bde0a84\n",
      "\tconfs: [default]\n",
      "\t0 artifacts copied, 4 already retrieved (0kB/9ms)\n",
      "22/06/08 01:07:53 WARN NativeCodeLoader: Unable to load native-hadoop library for your platform... using builtin-java classes where applicable\n",
      "Using Spark's default log4j profile: org/apache/spark/log4j-defaults.properties\n",
      "Setting default log level to \"WARN\".\n",
      "To adjust logging level use sc.setLogLevel(newLevel). For SparkR, use setLogLevel(newLevel).\n"
     ]
    }
   ],
   "source": [
    "#iniciar spark\n",
    "from pyspark import SparkConf\n",
    "from pyspark.sql import SparkSession\n",
    "from pyspark.sql.functions import col, concat\n",
    "from pyspark.sql.types import IntegerType\n",
    "from pyspark.sql import SparkSession\n",
    "from pyspark.sql.functions import monotonically_increasing_id\n",
    "\n",
    "conf = SparkConf() \n",
    "conf.set('spark.jars.packages', 'org.apache.hadoop:hadoop-aws:3.2.2')\n",
    "conf.set('spark.jars.packages', 'org.apache.hadoop:hadoop-aws:3.2.2,com.microsoft.azure:spark-mssql-connector_2.12:1.2.0')\n",
    "conf.set('spark.hadoop.fs.s3a.aws.credentials.provider', 'com.amazonaws.auth.InstanceProfileCredentialsProvider')\n",
    "spark = SparkSession.builder.config(conf=conf).getOrCreate()"
   ]
  },
  {
   "cell_type": "code",
   "execution_count": 2,
   "id": "1e7b57fb",
   "metadata": {
    "scrolled": true
   },
   "outputs": [
    {
     "name": "stderr",
     "output_type": "stream",
     "text": [
      "22/06/08 01:08:05 WARN MetricsConfig: Cannot locate configuration: tried hadoop-metrics2-s3a-file-system.properties,hadoop-metrics2.properties\n",
      "                                                                                \r"
     ]
    }
   ],
   "source": [
    "dfCsv = spark.read.option('delimiter', ',').option('header', 'true').csv('s3a://ninastack-sptech-bucket-bruto/transacoes_pix.csv')"
   ]
  },
  {
   "cell_type": "code",
   "execution_count": null,
   "id": "57cdc30d",
   "metadata": {
    "scrolled": true
   },
   "outputs": [],
   "source": [
    "dfCsv.show(vertical=True)"
   ]
  },
  {
   "cell_type": "code",
   "execution_count": 3,
   "id": "740dd8a6",
   "metadata": {},
   "outputs": [],
   "source": [
    "_dfCsv = dfCsv.select(\n",
    "    col('valor').alias('VALOR TRANSFERIDO (R$)'),\n",
    "    col('tipoChave').alias('TIPO CHAVE'),\n",
    "    col('nomeInstituicao').alias('NOME INSTITUIÇÃO'),\n",
    "    col('siglaEstado').alias('UF')\n",
    ")\n",
    "# _dfCsv.show()\n",
    "\n"
   ]
  },
  {
   "cell_type": "code",
   "execution_count": 4,
   "id": "055b1f75",
   "metadata": {},
   "outputs": [],
   "source": [
    "dfCsvSingleCol = _dfCsv.select(concat(*_dfCsv.columns).alias('data'))\n",
    "# dfCsvSingleCol.show()"
   ]
  },
  {
   "cell_type": "code",
   "execution_count": null,
   "id": "03cbb518",
   "metadata": {},
   "outputs": [],
   "source": [
    "#dfCsvSingleCol.write.mode('append').text('s3a://ninastack-sptech-bucket-tratados/transacoes_pix.txt') "
   ]
  },
  {
   "cell_type": "code",
   "execution_count": 5,
   "id": "15d6e1c5",
   "metadata": {},
   "outputs": [],
   "source": [
    "dfTxt = spark.read.option('delimiter', ';').option('header', 'true').csv('s3a://ninastack-sptech-bucket-bruto/pessoa.txt')"
   ]
  },
  {
   "cell_type": "code",
   "execution_count": null,
   "id": "2462190e",
   "metadata": {
    "scrolled": false
   },
   "outputs": [],
   "source": [
    "dfTxt.show()"
   ]
  },
  {
   "cell_type": "code",
   "execution_count": 6,
   "id": "1bb11064",
   "metadata": {},
   "outputs": [
    {
     "name": "stdout",
     "output_type": "stream",
     "text": [
      "+-----+\n",
      "|IDADE|\n",
      "+-----+\n",
      "|   24|\n",
      "|   44|\n",
      "|   20|\n",
      "|   45|\n",
      "|   39|\n",
      "|   36|\n",
      "|   34|\n",
      "|   37|\n",
      "|   45|\n",
      "|   33|\n",
      "|   40|\n",
      "|   18|\n",
      "|   23|\n",
      "|   30|\n",
      "|   21|\n",
      "|   18|\n",
      "|   20|\n",
      "|   32|\n",
      "|   28|\n",
      "|   36|\n",
      "+-----+\n",
      "only showing top 20 rows\n",
      "\n"
     ]
    }
   ],
   "source": [
    "_dfTxt = dfTxt.select(\n",
    "    col('idade').cast(IntegerType()).alias('IDADE'),\n",
    ")\n",
    "_dfTxt.show()"
   ]
  },
  {
   "cell_type": "code",
   "execution_count": 7,
   "id": "fee2be02",
   "metadata": {},
   "outputs": [],
   "source": [
    "dfTxtSingleCol = _dfTxt.select(concat(*_dfTxt.columns).alias('data'))\n",
    "# dfTxtSingleCol.show()"
   ]
  },
  {
   "cell_type": "code",
   "execution_count": null,
   "id": "bb10061f",
   "metadata": {},
   "outputs": [],
   "source": [
    "#dfTxtSingleCol.write.mode('append').text('s3a://ninastack-sptech-bucket-tratados/pessoa.txt')"
   ]
  },
  {
   "cell_type": "code",
   "execution_count": 8,
   "id": "636c326c",
   "metadata": {
    "scrolled": false
   },
   "outputs": [
    {
     "name": "stderr",
     "output_type": "stream",
     "text": [
      "                                                                                \r"
     ]
    }
   ],
   "source": [
    "dfJson = spark.read.json('s3a://ninastack-sptech-bucket-bruto/fraudes_pix.json')"
   ]
  },
  {
   "cell_type": "code",
   "execution_count": null,
   "id": "7d9a6902",
   "metadata": {
    "scrolled": false
   },
   "outputs": [],
   "source": [
    "dfJson.show(vertical = True)"
   ]
  },
  {
   "cell_type": "code",
   "execution_count": 26,
   "id": "837a5581",
   "metadata": {},
   "outputs": [
    {
     "ename": "TypeError",
     "evalue": "condition should be string or Column",
     "output_type": "error",
     "traceback": [
      "\u001b[0;31m---------------------------------------------------------------------------\u001b[0m",
      "\u001b[0;31mTypeError\u001b[0m                                 Traceback (most recent call last)",
      "\u001b[0;32m/tmp/ipykernel_1763/3961846773.py\u001b[0m in \u001b[0;36m<module>\u001b[0;34m\u001b[0m\n\u001b[1;32m      2\u001b[0m     \u001b[0mcol\u001b[0m\u001b[0;34m(\u001b[0m\u001b[0;34m'status_transacao'\u001b[0m\u001b[0;34m)\u001b[0m\u001b[0;34m.\u001b[0m\u001b[0malias\u001b[0m\u001b[0;34m(\u001b[0m\u001b[0;34m'STATUS DA TRANSAÇÃO'\u001b[0m\u001b[0;34m)\u001b[0m\u001b[0;34m\u001b[0m\u001b[0;34m\u001b[0m\u001b[0m\n\u001b[1;32m      3\u001b[0m )\n\u001b[0;32m----> 4\u001b[0;31m \u001b[0m_dfJson\u001b[0m\u001b[0;34m.\u001b[0m\u001b[0mfilter\u001b[0m\u001b[0;34m(\u001b[0m\u001b[0;34m\"STATUS DA TRANSAÇÂO\"\u001b[0m \u001b[0;34m!=\u001b[0m \u001b[0;34m\"RECUSADO\"\u001b[0m\u001b[0;34m)\u001b[0m\u001b[0;34m\u001b[0m\u001b[0;34m\u001b[0m\u001b[0m\n\u001b[0m",
      "\u001b[0;32m/usr/local/lib/python3.7/site-packages/pyspark/sql/dataframe.py\u001b[0m in \u001b[0;36mfilter\u001b[0;34m(self, condition)\u001b[0m\n\u001b[1;32m   1733\u001b[0m             \u001b[0mjdf\u001b[0m \u001b[0;34m=\u001b[0m \u001b[0mself\u001b[0m\u001b[0;34m.\u001b[0m\u001b[0m_jdf\u001b[0m\u001b[0;34m.\u001b[0m\u001b[0mfilter\u001b[0m\u001b[0;34m(\u001b[0m\u001b[0mcondition\u001b[0m\u001b[0;34m.\u001b[0m\u001b[0m_jc\u001b[0m\u001b[0;34m)\u001b[0m\u001b[0;34m\u001b[0m\u001b[0;34m\u001b[0m\u001b[0m\n\u001b[1;32m   1734\u001b[0m         \u001b[0;32melse\u001b[0m\u001b[0;34m:\u001b[0m\u001b[0;34m\u001b[0m\u001b[0;34m\u001b[0m\u001b[0m\n\u001b[0;32m-> 1735\u001b[0;31m             \u001b[0;32mraise\u001b[0m \u001b[0mTypeError\u001b[0m\u001b[0;34m(\u001b[0m\u001b[0;34m\"condition should be string or Column\"\u001b[0m\u001b[0;34m)\u001b[0m\u001b[0;34m\u001b[0m\u001b[0;34m\u001b[0m\u001b[0m\n\u001b[0m\u001b[1;32m   1736\u001b[0m         \u001b[0;32mreturn\u001b[0m \u001b[0mDataFrame\u001b[0m\u001b[0;34m(\u001b[0m\u001b[0mjdf\u001b[0m\u001b[0;34m,\u001b[0m \u001b[0mself\u001b[0m\u001b[0;34m.\u001b[0m\u001b[0msql_ctx\u001b[0m\u001b[0;34m)\u001b[0m\u001b[0;34m\u001b[0m\u001b[0;34m\u001b[0m\u001b[0m\n\u001b[1;32m   1737\u001b[0m \u001b[0;34m\u001b[0m\u001b[0m\n",
      "\u001b[0;31mTypeError\u001b[0m: condition should be string or Column"
     ]
    }
   ],
   "source": [
    "_dfJson = dfJson.select(\n",
    "    col('valor').alias('VALOR DA TRANSAÇÃO')\n",
    ")"
   ]
  },
  {
   "cell_type": "code",
   "execution_count": 10,
   "id": "6d8dbd4e",
   "metadata": {},
   "outputs": [],
   "source": [
    "dfJsonSingleCol = _dfJson.select(concat(*_dfJson.columns).alias('data'))\n",
    "# dfJsonSingleCol.show()"
   ]
  },
  {
   "cell_type": "code",
   "execution_count": null,
   "id": "39d81165",
   "metadata": {},
   "outputs": [],
   "source": [
    "#dfJsonSingleCol.write.mode('append').text('s3a://ninastack-sptech-bucket-tratados/fraudes_pix.txt')"
   ]
  },
  {
   "cell_type": "code",
   "execution_count": 11,
   "id": "348d8326",
   "metadata": {},
   "outputs": [],
   "source": [
    "import pandas as pd\n",
    "pdfXml = pd.read_xml('s3a://ninastack-sptech-bucket-bruto/DICT.xml')"
   ]
  },
  {
   "cell_type": "code",
   "execution_count": 12,
   "id": "25f1a12e",
   "metadata": {},
   "outputs": [],
   "source": [
    "dfXml = spark.createDataFrame(pdfXml)\n"
   ]
  },
  {
   "cell_type": "code",
   "execution_count": 13,
   "id": "c75e655a",
   "metadata": {},
   "outputs": [],
   "source": [
    "_dfXml = dfXml.select(\n",
    "    col('tipoConta').alias('TIPO CONTA'),\n",
    "    col('reivindicadaDoacao').alias('CHAVE REIVINDICADA POR DOAÇÃO'),\n",
    ")\n",
    "# _dfXml.show()"
   ]
  },
  {
   "cell_type": "code",
   "execution_count": 14,
   "id": "8461100f",
   "metadata": {},
   "outputs": [],
   "source": [
    "dfXmlSingleCol = _dfXml.select(concat(*_dfXml.columns).alias('data'))\n"
   ]
  },
  {
   "cell_type": "code",
   "execution_count": null,
   "id": "9422611c",
   "metadata": {},
   "outputs": [],
   "source": [
    "#dfXmlSingleCol.write.mode('append').text('s3a://ninastack-sptech-bucket-tratados/DICT.txt')"
   ]
  },
  {
   "cell_type": "code",
   "execution_count": 15,
   "id": "e54866a4",
   "metadata": {},
   "outputs": [],
   "source": [
    "_dfCsv = _dfCsv.withColumn(\"id\", monotonically_increasing_id())"
   ]
  },
  {
   "cell_type": "code",
   "execution_count": 16,
   "id": "f14d264e",
   "metadata": {},
   "outputs": [],
   "source": [
    "_dfTxt = _dfTxt.withColumn(\"id\", monotonically_increasing_id())"
   ]
  },
  {
   "cell_type": "code",
   "execution_count": 17,
   "id": "140e8d68",
   "metadata": {},
   "outputs": [],
   "source": [
    "_dfJson = _dfJson.withColumn(\"id\", monotonically_increasing_id())"
   ]
  },
  {
   "cell_type": "code",
   "execution_count": 18,
   "id": "01eb5372",
   "metadata": {},
   "outputs": [],
   "source": [
    "_dfXml = _dfXml.withColumn(\"id\", monotonically_increasing_id())"
   ]
  },
  {
   "cell_type": "code",
   "execution_count": 19,
   "id": "75d8d254",
   "metadata": {},
   "outputs": [],
   "source": [
    "df_seguranca = _dfCsv.join(_dfTxt, on=\"id\", how=\"outer\").join(_dfJson, on=\"id\", how=\"outer\").join(_dfXml, on=\"id\", how=\"outer\") "
   ]
  },
  {
   "cell_type": "code",
   "execution_count": null,
   "id": "58d48da7",
   "metadata": {},
   "outputs": [],
   "source": [
    "# df_sample = df_segurancaMaster.sample(0.001, seed=1234)"
   ]
  },
  {
   "cell_type": "code",
   "execution_count": null,
   "id": "d630741e",
   "metadata": {
    "scrolled": false
   },
   "outputs": [],
   "source": [
    "# df_seguranca.write.option(\"header\", True).csv(\"s3a://ninastack-sptech-bucket-cliente/security\", emptyValue='') "
   ]
  },
  {
   "cell_type": "code",
   "execution_count": 21,
   "id": "789b1bba",
   "metadata": {},
   "outputs": [
    {
     "name": "stderr",
     "output_type": "stream",
     "text": [
      "22/06/08 01:13:08 WARN TaskSetManager: Stage 7 contains a task of very large size (5313 KiB). The maximum recommended task size is 1000 KiB.\n",
      "                                                                                \r"
     ]
    }
   ],
   "source": [
    "df_seguranca.write \\\n",
    " .format('com.microsoft.sqlserver.jdbc.spark') \\\n",
    " .mode('overwrite') \\\n",
    " .option('driver', 'com.microsoft.sqlserver.jdbc.SQLServerDriver') \\\n",
    " .option('url', 'jdbc:sqlserver://server-gp-nina.database.windows.net;databaseName=database-gp06-nina;') \\\n",
    " .option('dbtable', 'dbo.Security') \\\n",
    " .option('user', 'adm') \\\n",
    " .option('password', '@Urubu100') \\\n",
    " .save()"
   ]
  },
  {
   "cell_type": "code",
   "execution_count": 22,
   "id": "15702a13",
   "metadata": {},
   "outputs": [
    {
     "name": "stdout",
     "output_type": "stream",
     "text": [
      "10.100.0.245\n"
     ]
    }
   ],
   "source": [
    "import socket\n",
    "print(socket.gethostbyname(socket.gethostname()))\n"
   ]
  }
 ],
 "metadata": {
  "kernelspec": {
   "display_name": "Python 3 (ipykernel)",
   "language": "python",
   "name": "python3"
  },
  "language_info": {
   "codemirror_mode": {
    "name": "ipython",
    "version": 3
   },
   "file_extension": ".py",
   "mimetype": "text/x-python",
   "name": "python",
   "nbconvert_exporter": "python",
   "pygments_lexer": "ipython3",
   "version": "3.7.10"
  }
 },
 "nbformat": 4,
 "nbformat_minor": 5
}

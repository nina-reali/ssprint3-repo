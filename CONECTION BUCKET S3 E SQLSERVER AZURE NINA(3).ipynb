{
 "cells": [
  {
   "cell_type": "code",
   "execution_count": null,
   "id": "cccee147",
   "metadata": {
    "scrolled": true
   },
   "outputs": [],
   "source": [
    "#iniciar spark\n",
    "from pyspark import SparkConf\n",
    "from pyspark.sql import SparkSession\n",
    "from pyspark.sql.functions import col, concat, lit\n",
    "from pyspark.sql.types import IntegerType\n",
    "from pyspark.sql import SparkSession\n",
    "from pyspark.sql.functions import monotonically_increasing_id\n",
    "\n",
    "conf = SparkConf() \n",
    "conf.set('spark.jars.packages', 'org.apache.hadoop:hadoop-aws:3.2.2')\n",
    "conf.set('spark.jars.packages', 'org.apache.hadoop:hadoop-aws:3.2.2,com.microsoft.azure:spark-mssql-connector_2.12:1.2.0')\n",
    "conf.set('spark.hadoop.fs.s3a.aws.credentials.provider', 'com.amazonaws.auth.InstanceProfileCredentialsProvider')\n",
    "spark = SparkSession.builder.config(conf=conf).getOrCreate()"
   ]
  },
  {
   "cell_type": "code",
   "execution_count": null,
   "id": "d3cd37a4",
   "metadata": {},
   "outputs": [],
   "source": [
    "dfTwitter = spark.read.option(\"multiline\",\"true\").json('s3a://ninastack-sptech-bucket-bruto/tweets.json')"
   ]
  },
  {
   "cell_type": "code",
   "execution_count": null,
   "id": "118001a8",
   "metadata": {},
   "outputs": [],
   "source": [
    "from pyspark.sql.functions import col\n",
    "\n",
    "df = dfTwitter.withColumn('id', col('tweet.id')).withColumn('data', col('tweet.data')).withColumn('nome', col('tweet.nome')).withColumn('texto', col('tweet.texto'))\n"
   ]
  },
  {
   "cell_type": "code",
   "execution_count": null,
   "id": "ae124817",
   "metadata": {},
   "outputs": [],
   "source": [
    "_dfTweets = df.select(\n",
    "    col('texto').alias('OPINIÃO')\n",
    ")\n",
    "nubank = _dfTweets.filter(\"texto like '%nubank%' OR texto like '%#nubank%'\").withColumn(\"BANCO\",lit(\"NUBANK\"))\n"
   ]
  },
  {
   "cell_type": "code",
   "execution_count": null,
   "id": "7383bfcd",
   "metadata": {},
   "outputs": [],
   "source": [
    "inter = _dfTweets.filter(\"texto like '%inter%' OR texto like '%#inter%'\").withColumn(\"BANCO\",lit(\"INTER\"))"
   ]
  },
  {
   "cell_type": "code",
   "execution_count": null,
   "id": "d8da4f50",
   "metadata": {},
   "outputs": [],
   "source": [
    "safra = _dfTweets.filter(\"texto like '%safra%' OR texto like '%#safra%'\").withColumn(\"BANCO\",lit(\"SAFRA\"))"
   ]
  },
  {
   "cell_type": "code",
   "execution_count": null,
   "id": "a386ca43",
   "metadata": {},
   "outputs": [],
   "source": [
    "santander = _dfTweets.filter(\"texto like '%santander%' OR texto like '%#santander%'\").withColumn(\"BANCO\",lit(\"SANTANDER\"))"
   ]
  },
  {
   "cell_type": "code",
   "execution_count": null,
   "id": "c4ed03a4",
   "metadata": {},
   "outputs": [],
   "source": [
    "c6 = _dfTweets.filter(\"texto like '%c6%' OR texto like '%#c6%'\").withColumn(\"BANCO\",lit(\"C6BANK\"))"
   ]
  },
  {
   "cell_type": "code",
   "execution_count": null,
   "id": "3d37cd3a",
   "metadata": {},
   "outputs": [],
   "source": [
    "dfOpinioes = nubank.union(inter).union(safra).union(santander).union(c6)"
   ]
  },
  {
   "cell_type": "code",
   "execution_count": null,
   "id": "0c3636e2",
   "metadata": {},
   "outputs": [],
   "source": [
    "dfOpinioes.show()"
   ]
  },
  {
   "cell_type": "code",
   "execution_count": null,
   "id": "84d75f6a",
   "metadata": {},
   "outputs": [],
   "source": [
    "dfOpinioes.write.option(\"header\", True).csv(\"s3a://ninastack-sptech-bucket-cliente/opinioes_twitter\", emptyValue='') "
   ]
  },
  {
   "cell_type": "code",
   "execution_count": null,
   "id": "a545771c",
   "metadata": {},
   "outputs": [],
   "source": [
    "dfTweetsSingleCol = _dfTweets.select(concat(*_dfTweets.columns).alias('data'))"
   ]
  },
  {
   "cell_type": "code",
   "execution_count": null,
   "id": "3cc5e30e",
   "metadata": {},
   "outputs": [],
   "source": [
    "dfTweetsSingleCol.write.mode('append').text('s3a://ninastack-sptech-bucket-tratados/opinioes_twitter.txt')"
   ]
  },
  {
   "cell_type": "code",
   "execution_count": null,
   "id": "fc40da02",
   "metadata": {},
   "outputs": [],
   "source": [
    "dfCsv = spark.read.option('delimiter', ';').option('header', 'true').csv('s3a://ninastack-sptech-bucket-bruto/transacoes_pix.csv')"
   ]
  },
  {
   "cell_type": "code",
   "execution_count": null,
   "id": "57cdc30d",
   "metadata": {
    "scrolled": true
   },
   "outputs": [],
   "source": [
    "dfCsv.show(vertical=True)"
   ]
  },
  {
   "cell_type": "code",
   "execution_count": null,
   "id": "740dd8a6",
   "metadata": {},
   "outputs": [],
   "source": [
    "_dfCsv = dfCsv.select(\n",
    "    col('valor').alias('VALOR TRANSFERIDO (R$)'),\n",
    "    col('tipoChave').alias('TIPO CHAVE'),\n",
    "    col('nomeInstituicao').alias('NOME INSTITUIÇÃO'),\n",
    "    col('siglaEstado').alias('UF')\n",
    ")\n",
    "# _dfCsv.show()\n",
    "\n"
   ]
  },
  {
   "cell_type": "code",
   "execution_count": null,
   "id": "055b1f75",
   "metadata": {},
   "outputs": [],
   "source": [
    "dfCsvSingleCol = _dfCsv.select(concat(*_dfCsv.columns).alias('data'))\n",
    "# dfCsvSingleCol.show()"
   ]
  },
  {
   "cell_type": "code",
   "execution_count": null,
   "id": "03cbb518",
   "metadata": {},
   "outputs": [],
   "source": [
    "dfCsvSingleCol.write.mode('overwrite').text('s3a://ninastack-sptech-bucket-tratados/transacoes_pix.txt') "
   ]
  },
  {
   "cell_type": "code",
   "execution_count": null,
   "id": "15d6e1c5",
   "metadata": {},
   "outputs": [],
   "source": [
    "dfTxt = spark.read.option('delimiter', ';').option('header', 'true').csv('s3a://ninastack-sptech-bucket-bruto/pessoa.txt')"
   ]
  },
  {
   "cell_type": "code",
   "execution_count": null,
   "id": "2462190e",
   "metadata": {
    "scrolled": false
   },
   "outputs": [],
   "source": [
    "dfTxt.show()"
   ]
  },
  {
   "cell_type": "code",
   "execution_count": null,
   "id": "1bb11064",
   "metadata": {},
   "outputs": [],
   "source": [
    "_dfTxt = dfTxt.select(\n",
    "    col('idade').cast(IntegerType()).alias('IDADE'),\n",
    ")\n",
    "#_dfTxt.show()"
   ]
  },
  {
   "cell_type": "code",
   "execution_count": null,
   "id": "fee2be02",
   "metadata": {},
   "outputs": [],
   "source": [
    "dfTxtSingleCol = _dfTxt.select(concat(*_dfTxt.columns).alias('data'))\n",
    "# dfTxtSingleCol.show()"
   ]
  },
  {
   "cell_type": "code",
   "execution_count": null,
   "id": "bb10061f",
   "metadata": {},
   "outputs": [],
   "source": [
    "dfTxtSingleCol.write.mode('overwrite').text('s3a://ninastack-sptech-bucket-tratados/pessoa.txt')"
   ]
  },
  {
   "cell_type": "code",
   "execution_count": null,
   "id": "636c326c",
   "metadata": {
    "scrolled": false
   },
   "outputs": [],
   "source": [
    "dfJson = spark.read.json('s3a://ninastack-sptech-bucket-bruto/fraudes_pix.json')"
   ]
  },
  {
   "cell_type": "code",
   "execution_count": null,
   "id": "7d9a6902",
   "metadata": {
    "scrolled": false
   },
   "outputs": [],
   "source": [
    "dfJson.show(vertical = True)"
   ]
  },
  {
   "cell_type": "code",
   "execution_count": null,
   "id": "837a5581",
   "metadata": {},
   "outputs": [],
   "source": [
    "_dfJson = dfJson.select(\n",
    "    col('valor').alias('VALOR FRAUDES')\n",
    ")\n",
    "#_dfJson.show()"
   ]
  },
  {
   "cell_type": "code",
   "execution_count": null,
   "id": "6d8dbd4e",
   "metadata": {},
   "outputs": [],
   "source": [
    "dfJsonSingleCol = _dfJson.select(concat(*_dfJson.columns).alias('data'))\n",
    "# dfJsonSingleCol.show()"
   ]
  },
  {
   "cell_type": "code",
   "execution_count": null,
   "id": "39d81165",
   "metadata": {},
   "outputs": [],
   "source": [
    "dfJsonSingleCol.write.mode('overwrite').text('s3a://ninastack-sptech-bucket-tratados/fraudes_pix.txt')"
   ]
  },
  {
   "cell_type": "code",
   "execution_count": null,
   "id": "348d8326",
   "metadata": {},
   "outputs": [],
   "source": [
    "import pandas as pd\n",
    "pdfXml = pd.read_xml('s3a://ninastack-sptech-bucket-bruto/DICT.xml')"
   ]
  },
  {
   "cell_type": "code",
   "execution_count": null,
   "id": "25f1a12e",
   "metadata": {},
   "outputs": [],
   "source": [
    "dfXml = spark.createDataFrame(pdfXml)\n"
   ]
  },
  {
   "cell_type": "code",
   "execution_count": null,
   "id": "c75e655a",
   "metadata": {},
   "outputs": [],
   "source": [
    "_dfXml = dfXml.select(\n",
    "    col('tipoConta').alias('TIPO CONTA'),\n",
    "    col('reivindicadaDoacao').alias('CHAVE REIVINDICADA POR DOAÇÃO'),\n",
    ")\n",
    "# _dfXml.show()"
   ]
  },
  {
   "cell_type": "code",
   "execution_count": null,
   "id": "8461100f",
   "metadata": {},
   "outputs": [],
   "source": [
    "dfXmlSingleCol = _dfXml.select(concat(*_dfXml.columns).alias('data'))\n"
   ]
  },
  {
   "cell_type": "code",
   "execution_count": null,
   "id": "9422611c",
   "metadata": {},
   "outputs": [],
   "source": [
    "dfXmlSingleCol.write.mode('overwrite').text('s3a://ninastack-sptech-bucket-tratados/DICT.txt')"
   ]
  },
  {
   "cell_type": "code",
   "execution_count": null,
   "id": "e54866a4",
   "metadata": {},
   "outputs": [],
   "source": [
    "_dfCsv = _dfCsv.withColumn(\"id\", monotonically_increasing_id())"
   ]
  },
  {
   "cell_type": "code",
   "execution_count": null,
   "id": "f14d264e",
   "metadata": {},
   "outputs": [],
   "source": [
    "_dfTxt = _dfTxt.withColumn(\"id\", monotonically_increasing_id())"
   ]
  },
  {
   "cell_type": "code",
   "execution_count": null,
   "id": "140e8d68",
   "metadata": {},
   "outputs": [],
   "source": [
    "_dfJson = _dfJson.withColumn(\"id\", monotonically_increasing_id())"
   ]
  },
  {
   "cell_type": "code",
   "execution_count": null,
   "id": "01eb5372",
   "metadata": {},
   "outputs": [],
   "source": [
    "_dfXml = _dfXml.withColumn(\"id\", monotonically_increasing_id())"
   ]
  },
  {
   "cell_type": "code",
   "execution_count": null,
   "id": "75d8d254",
   "metadata": {},
   "outputs": [],
   "source": [
    "df_seguranca = _dfCsv.join(_dfTxt, on=\"id\", how=\"outer\").join(_dfJson, on=\"id\", how=\"outer\").join(_dfXml, on=\"id\", how=\"outer\") "
   ]
  },
  {
   "cell_type": "code",
   "execution_count": null,
   "id": "58d48da7",
   "metadata": {},
   "outputs": [],
   "source": [
    "# df_sample = df_segurancaMaster.sample(0.001, seed=1234)"
   ]
  },
  {
   "cell_type": "code",
   "execution_count": null,
   "id": "d630741e",
   "metadata": {
    "scrolled": false
   },
   "outputs": [],
   "source": [
    "df_seguranca.write.option(\"header\", True).csv(\"s3a://ninastack-sptech-bucket-cliente/security\", emptyValue='') "
   ]
  },
  {
   "cell_type": "code",
   "execution_count": null,
   "id": "789b1bba",
   "metadata": {},
   "outputs": [],
   "source": [
    "df_seguranca.write \\\n",
    " .format('com.microsoft.sqlserver.jdbc.spark') \\\n",
    " .mode('overwrite') \\\n",
    " .option('driver', 'com.microsoft.sqlserver.jdbc.SQLServerDriver') \\\n",
    " .option('url', 'jdbc:sqlserver://server-gp-nina.database.windows.net;databaseName=database-gp06-nina;') \\\n",
    " .option('dbtable', 'dbo.Security') \\\n",
    " .option('user', 'adm') \\\n",
    " .option('password', '@Urubu100') \\\n",
    " .save()"
   ]
  },
  {
   "cell_type": "code",
   "execution_count": null,
   "id": "a64f07cf",
   "metadata": {},
   "outputs": [],
   "source": [
    "dfOpinioes.write \\\n",
    " .format('com.microsoft.sqlserver.jdbc.spark') \\\n",
    " .mode('overwrite') \\\n",
    " .option('driver', 'com.microsoft.sqlserver.jdbc.SQLServerDriver') \\\n",
    " .option('url', 'jdbc:sqlserver://server-gp-nina.database.windows.net;databaseName=database-gp06-nina;') \\\n",
    " .option('dbtable', 'dbo.OpinioesTwitter') \\\n",
    " .option('user', 'adm') \\\n",
    " .option('password', '@Urubu100') \\\n",
    " .save()"
   ]
  },
  {
   "cell_type": "code",
   "execution_count": 1,
   "id": "15702a13",
   "metadata": {},
   "outputs": [
    {
     "name": "stdout",
     "output_type": "stream",
     "text": [
      "10.100.0.245\n"
     ]
    }
   ],
   "source": [
    "import socket\n",
    "print(socket.gethostbyname(socket.gethostname()))\n"
   ]
  }
 ],
 "metadata": {
  "kernelspec": {
   "display_name": "Python 3 (ipykernel)",
   "language": "python",
   "name": "python3"
  },
  "language_info": {
   "codemirror_mode": {
    "name": "ipython",
    "version": 3
   },
   "file_extension": ".py",
   "mimetype": "text/x-python",
   "name": "python",
   "nbconvert_exporter": "python",
   "pygments_lexer": "ipython3",
   "version": "3.7.10"
  }
 },
 "nbformat": 4,
 "nbformat_minor": 5
}
